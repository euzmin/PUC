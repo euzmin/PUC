{
 "cells": [
  {
   "cell_type": "code",
   "execution_count": 3,
   "id": "941b3d3b",
   "metadata": {},
   "outputs": [
    {
     "name": "stdout",
     "output_type": "stream",
     "text": [
      "SUC_tau1: 0.5\n",
      "SUC_tau2: 1.0\n",
      "SQC_tau1: 0.5\n",
      "SQC_tau2: 1.0\n",
      "JUC_1: 0.6666666666666666\n",
      "JUC_2: 0.8333333333333334\n",
      "JQC_1: 0.5\n",
      "JQC_2: 1.0\n",
      "PUC: 0.6129032258064516\n",
      "PUC: 0.4838709677419355\n"
     ]
    }
   ],
   "source": [
    "from data import data_loader\n",
    "from sklearn.model_selection import KFold\n",
    "import numpy as np\n",
    "from utils import log, setup_seed\n",
    "import os\n",
    "import torch\n",
    "from utils import relative_uplift_auc_score,principled_uplift_curve, max_principled_uplift_curve, principled_uplift_auc_score, plot_principled_uplift_curve,sep_qini_auc_score\n",
    "\n",
    "t = np.array([1,0,1,0,0,1,1,0])\n",
    "y = np.array([1,0,1,1,0,0,0,1])\n",
    "score_1 = np.array([1,1,0,0,0,0,-1,-1])\n",
    "# S_{max}\n",
    "score_2 = np.array([1,0,1,-1,0,0,0,-1])\n",
    "\n",
    "from sklift.metrics import qini_auc_score, uplift_auc_score\n",
    "\n",
    "print(f'SUC_tau1: {relative_uplift_auc_score(y,score_1,t)}')\n",
    "print(f'SUC_tau2: {relative_uplift_auc_score(y,score_2,t)}')\n",
    "\n",
    "print(f'SQC_tau1: {sep_qini_auc_score(y,score_1,t)}')\n",
    "print(f'SQC_tau2: {sep_qini_auc_score(y,score_2,t)}')\n",
    "\n",
    "print(f'JUC_1: {uplift_auc_score(y,score_1,t)}')\n",
    "print(f'JUC_2: {uplift_auc_score(y,score_2,t)}')\n",
    "\n",
    "print(f'JQC_1: {qini_auc_score(y,score_1,t)}')\n",
    "print(f'JQC_2: {qini_auc_score(y,score_2,t)}')\n",
    "\n",
    "print(f'PUC: {principled_uplift_auc_score(y,score_1,t)}')\n",
    "print(f'PUC: {principled_uplift_auc_score(y,score_2,t)}')"
   ]
  },
  {
   "cell_type": "code",
   "execution_count": null,
   "metadata": {},
   "outputs": [],
   "source": []
  }
 ],
 "metadata": {
  "kernelspec": {
   "display_name": "descn",
   "language": "python",
   "name": "python3"
  },
  "language_info": {
   "codemirror_mode": {
    "name": "ipython",
    "version": 3
   },
   "file_extension": ".py",
   "mimetype": "text/x-python",
   "name": "python",
   "nbconvert_exporter": "python",
   "pygments_lexer": "ipython3",
   "version": "3.7.16"
  }
 },
 "nbformat": 4,
 "nbformat_minor": 5
}
